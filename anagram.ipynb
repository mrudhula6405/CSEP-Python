{
 "cells": [
  {
   "cell_type": "code",
   "execution_count": 1,
   "id": "096b87df",
   "metadata": {},
   "outputs": [
    {
     "name": "stdout",
     "output_type": "stream",
     "text": [
      "Enter the input string: amma\n",
      "{'c': 1, 'a': 1, 'b': 1}\n",
      "{'a': 2, 'm': 2}\n",
      "not anagram\n"
     ]
    }
   ],
   "source": [
    "l=\"cab\"\n",
    "m=str(input(\"Enter the input string: \"))\n",
    "c={}\n",
    "s={}\n",
    "for i in l:\n",
    "    v=l.count(i)\n",
    "    if i not in s:\n",
    "        s[i]=v\n",
    "for j in m:\n",
    "    b=m.count(j)\n",
    "    if j not in c:\n",
    "        c[j]=b\n",
    "print(s)\n",
    "print(c)\n",
    "if s.items()==c.items():\n",
    "    print(\"It is an anagram\")\n",
    "else:\n",
    "    print(\"not anagram\")\n",
    "\n"
   ]
  },
  {
   "cell_type": "code",
   "execution_count": 7,
   "id": "7db9bdbd",
   "metadata": {},
   "outputs": [
    {
     "name": "stdout",
     "output_type": "stream",
     "text": [
      "enter the string:tab\n",
      "{'b': 1, 'a': 1, 't': 1}\n",
      "{'t': 1, 'a': 1, 'b': 1}\n",
      "anagram\n"
     ]
    }
   ],
   "source": [
    "a=\"bat\"\n",
    "b=str(input(\"enter the string:\"))\n",
    "c={}\n",
    "d={}\n",
    "for i in a:\n",
    "    e=a.count(i)\n",
    "    if i not in c:\n",
    "        c[i]=e\n",
    "for j in b:\n",
    "    f=b.count(j)\n",
    "    if j not in d:\n",
    "        d[j]=f\n",
    "print(c)\n",
    "print(d)\n",
    "if c.items()==d.items():\n",
    "    print(\"anagram\")\n",
    "else:\n",
    "    print(\"not an anagram\")\n",
    "        "
   ]
  },
  {
   "cell_type": "code",
   "execution_count": null,
   "id": "b519629e",
   "metadata": {},
   "outputs": [],
   "source": []
  },
  {
   "cell_type": "code",
   "execution_count": null,
   "id": "6009e25b",
   "metadata": {},
   "outputs": [],
   "source": []
  }
 ],
 "metadata": {
  "kernelspec": {
   "display_name": "Python 3 (ipykernel)",
   "language": "python",
   "name": "python3"
  },
  "language_info": {
   "codemirror_mode": {
    "name": "ipython",
    "version": 3
   },
   "file_extension": ".py",
   "mimetype": "text/x-python",
   "name": "python",
   "nbconvert_exporter": "python",
   "pygments_lexer": "ipython3",
   "version": "3.9.7"
  }
 },
 "nbformat": 4,
 "nbformat_minor": 5
}
