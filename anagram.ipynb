{
 "cells": [
  {
   "cell_type": "code",
   "execution_count": null,
   "id": "9eff0126",
   "metadata": {},
   "outputs": [],
   "source": [
    "\n",
    "\n"
   ]
  },
  {
   "cell_type": "code",
   "execution_count": 7,
   "id": "8d4f073f",
   "metadata": {},
   "outputs": [
    {
     "name": "stdout",
     "output_type": "stream",
     "text": [
      "enter the string:tab\n",
      "{'b': 1, 'a': 1, 't': 1}\n",
      "{'t': 1, 'a': 1, 'b': 1}\n",
      "anagram\n"
     ]
    }
   ],
   "source": [
    "a=\"bat\"\n",
    "b=str(input(\"enter the string:\"))\n",
    "c={}\n",
    "d={}\n",
    "for i in a:\n",
    "    e=a.count(i)\n",
    "    if i not in c:\n",
    "        c[i]=e\n",
    "for j in b:\n",
    "    f=b.count(j)\n",
    "    if j not in d:\n",
    "        d[j]=f\n",
    "print(c)\n",
    "print(d)\n",
    "if c.items()==d.items():\n",
    "    print(\"anagram\")\n",
    "else:\n",
    "    print(\"not an anagram\")\n",
    "        "
   ]
  },
  {
   "cell_type": "code",
   "execution_count": null,
   "id": "f736ed09",
   "metadata": {},
   "outputs": [],
   "source": []
  },
  {
   "cell_type": "code",
   "execution_count": null,
   "id": "a76fed1f",
   "metadata": {},
   "outputs": [],
   "source": []
  }
 ],
 "metadata": {
  "kernelspec": {
   "display_name": "Python 3 (ipykernel)",
   "language": "python",
   "name": "python3"
  },
  "language_info": {
   "codemirror_mode": {
    "name": "ipython",
    "version": 3
   },
   "file_extension": ".py",
   "mimetype": "text/x-python",
   "name": "python",
   "nbconvert_exporter": "python",
   "pygments_lexer": "ipython3",
   "version": "3.9.7"
  }
 },
 "nbformat": 4,
 "nbformat_minor": 5
}
