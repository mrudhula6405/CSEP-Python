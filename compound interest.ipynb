{
 "cells": [
  {
   "cell_type": "code",
   "execution_count": 2,
   "id": "4714628f",
   "metadata": {},
   "outputs": [
    {
     "name": "stdout",
     "output_type": "stream",
     "text": [
      "principal:100000\n",
      "interest rate:2\n",
      "compound year:3\n",
      "year:1\n",
      "Compound interest is: 2013.363\n"
     ]
    }
   ],
   "source": [
    "def compoundinterest(principal0,principal,rate,n,time,itera):\n",
    "    if(itera==n*time):\n",
    "        return (principal-principal0)\n",
    "    interest=principal*(rate/(n * 100))\n",
    "    return compoundinterest(principal0,principal + interest,rate,n,time,itera + 1)\n",
    "def main():\n",
    "    principal=float(input(\"principal:\"))\n",
    "    rate=float(input(\"interest rate:\"))\n",
    "    n=int(input(\"compound year:\"))\n",
    "    time=int(input(\"year:\"))\n",
    "    comp_interest= compoundinterest(principal,principal,rate,n,time, 0)\n",
    "    print(\"Compound interest is:\",round(comp_interest, 3))\n",
    "main()"
   ]
  },
  {
   "cell_type": "code",
   "execution_count": null,
   "id": "482bc1d5",
   "metadata": {},
   "outputs": [],
   "source": []
  }
 ],
 "metadata": {
  "kernelspec": {
   "display_name": "Python 3 (ipykernel)",
   "language": "python",
   "name": "python3"
  },
  "language_info": {
   "codemirror_mode": {
    "name": "ipython",
    "version": 3
   },
   "file_extension": ".py",
   "mimetype": "text/x-python",
   "name": "python",
   "nbconvert_exporter": "python",
   "pygments_lexer": "ipython3",
   "version": "3.9.7"
  }
 },
 "nbformat": 4,
 "nbformat_minor": 5
}
